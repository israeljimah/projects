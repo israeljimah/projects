{
 "cells": [
  {
   "cell_type": "code",
   "execution_count": 13,
   "id": "dddb9ec1",
   "metadata": {},
   "outputs": [],
   "source": [
    "from datascience import *\n",
    "import numpy as np\n",
    "\n",
    "%matplotlib inline\n",
    "import matplotlib.pyplot as plots\n",
    "plots.style.use('fivethirtyeight')"
   ]
  },
  {
   "cell_type": "markdown",
   "id": "eafe2b85",
   "metadata": {},
   "source": [
    "# Project 1: The Power of Data"
   ]
  },
  {
   "cell_type": "markdown",
   "id": "20eb7dcb",
   "metadata": {},
   "source": [
    "In this project, I will use table manipulations and visualizations to help biologists determine which specific cells in our lungs are associated with the disease cystic fibrosis.\n",
    "\n",
    "In the past few decades, new computational, mathematical and scientific innovations have contributed to an exponential increase in the volume, variety and velocity of data generation.\n",
    "\n",
    "Among the countless scientific fields embracing 'big data', biological sciences presents an impressive avenue for leveraging data science.\n",
    "\n",
    "In the following project I will use data science to understand a large quantity of data, across many variables, and single out a future avenue for biological research on cystic fibrosis."
   ]
  },
  {
   "cell_type": "markdown",
   "id": "00d8a763",
   "metadata": {},
   "source": [
    "### Basic Biology Overview\n",
    "\n",
    "1. All living things are made up of cells.\n",
    "2. All cells in an organism share the same genetic code called \"DNA\", the molecular instructions for all functions of living things. The molecules that encode our DNA are called \"Base Pairs\".\n",
    "3. Cells are different because they implement different parts of the DNA at different times. DNA is actually implemented—\"expressed\"— in the cell when parts of it are converted to \"RNA\". Sections of RNA are then converted to proteins.\n",
    "4. Sections of DNA are called \"Genes\". Genes are portions of DNA that we have identified as coding for specific proteins: molecules that have some function in the body. For example, the protein hemoglobin carries oxygen in your blood.\n",
    "\n",
    "**So as a summary:**\n",
    "\n",
    "$$\\text{DNA} \\rightarrow \\text{RNA} \\rightarrow \\text{Protein} \\rightarrow \\text{Function}$$"
   ]
  },
  {
   "cell_type": "markdown",
   "id": "94b83581",
   "metadata": {},
   "source": [
    "# 1. New Technology"
   ]
  },
  {
   "cell_type": "markdown",
   "id": "7f60437f",
   "metadata": {},
   "source": [
    "### In this section of the project we will learn about a new technology that has increased the power of biological analysis. We will first assess how popular this technology is."
   ]
  },
  {
   "cell_type": "markdown",
   "id": "2ffbbf84",
   "metadata": {},
   "source": [
    "The amount of data governing living organisms is staggering.\n",
    "\n",
    "While the [Human Genome Project](https://en.wikipedia.org/wiki/Human_Genome_Project) successfully sequenced the 3+ billion base pairs that compose human DNA in 2003, knowing our genetic code does not tell us how it is actually implemented and interpreted in our bodies. \n",
    "\n",
    "Every cell in your body has the same DNA<sup>1</sup>, but a neuron cell in your brain looks and behaves very differently from a stomach cell, a skin cell, a white blood cell or a cell in your lungs.\n",
    "\n",
    "*$ ^{1}$Individual cells may have a tiny amount of variation due to mutation.*"
   ]
  },
  {
   "cell_type": "markdown",
   "id": "c182cbb7",
   "metadata": {},
   "source": [
    "[**Brain Cells**](https://upload.wikimedia.org/wikipedia/commons/thumb/5/56/Human_astrocyte.png/1200px-Human_astrocyte.png)\n",
    "![Brain Cells](brain_cells.png)"
   ]
  },
  {
   "cell_type": "markdown",
   "id": "b83fc0d6",
   "metadata": {},
   "source": [
    "[**Stomach Cells**](https://upload.wikimedia.org/wikipedia/commons/thumb/1/10/Chief_cells.JPG/1200px-Chief_cells.JPG)\n",
    "![Stomach Cells](stomach_cells.jpg)"
   ]
  },
  {
   "cell_type": "markdown",
   "id": "90178b7a",
   "metadata": {},
   "source": [
    "In 2009, biologists began developing new techniques to analyze how our genome is actually expressed in individual cells. These new techniques enable scientists to better understand complex biological phenomena at unprecedented resolutions. \n",
    "\n",
    "One of these technologies is called \"Single Cell RNA Sequencing\" (scRNA-seq).\n",
    "\n",
    "**By investigating RNA expression in individual cells, we can better understand how cells are actually functioning and where certain diseases may arise.**"
   ]
  },
  {
   "cell_type": "markdown",
   "id": "fabfe366",
   "metadata": {},
   "source": [
    "If you are interested in a little bit more info about this technology, you can watch the following video, but it's not necessary for the completion of the project:"
   ]
  },
  {
   "cell_type": "code",
   "execution_count": 14,
   "id": "d74ddd18",
   "metadata": {},
   "outputs": [
    {
     "data": {
      "text/html": [
       "\n",
       "<iframe width=\"600\" height=\"480\" src=\"https://www.youtube.com/embed/DWcFTjrEBDg\" title=\"YouTube video player\" frameborder=\"0\" allow=\"accelerometer; autoplay; clipboard-write; encrypted-media; gyroscope; picture-in-picture\" allowfullscreen>\n",
       "</iframe>\n"
      ],
      "text/plain": [
       "<IPython.core.display.HTML object>"
      ]
     },
     "execution_count": 14,
     "metadata": {},
     "output_type": "execute_result"
    }
   ],
   "source": [
    "from IPython.display import HTML\n",
    "HTML('''\n",
    "<iframe width=\"600\" height=\"480\" src=\"https://www.youtube.com/embed/DWcFTjrEBDg\" title=\"YouTube video player\" frameborder=\"0\" allow=\"accelerometer; autoplay; clipboard-write; encrypted-media; gyroscope; picture-in-picture\" allowfullscreen>\n",
    "</iframe>\n",
    "''')"
   ]
  },
  {
   "cell_type": "markdown",
   "id": "32cd2283",
   "metadata": {},
   "source": [
    "Let's take a look at the popularity of this technology over the past few years.\n",
    "\n",
    "**A really useful research tool for determining popularity is [Google Trends](https://trends.google.com/trends/).**\n",
    "\n",
    "Google Trends lets you compare the popularity of search terms on Google.\n"
   ]
  },
  {
   "cell_type": "code",
   "execution_count": 15,
   "id": "1e524b61",
   "metadata": {},
   "outputs": [
    {
     "data": {
      "text/html": [
       "<table border=\"1\" class=\"dataframe\">\n",
       "    <thead>\n",
       "        <tr>\n",
       "            <th>Month</th> <th>Interest over time</th>\n",
       "        </tr>\n",
       "    </thead>\n",
       "    <tbody>\n",
       "        <tr>\n",
       "            <td>2004-01</td> <td>0                 </td>\n",
       "        </tr>\n",
       "        <tr>\n",
       "            <td>2004-02</td> <td>0                 </td>\n",
       "        </tr>\n",
       "        <tr>\n",
       "            <td>2004-03</td> <td>0                 </td>\n",
       "        </tr>\n",
       "        <tr>\n",
       "            <td>2004-04</td> <td>0                 </td>\n",
       "        </tr>\n",
       "        <tr>\n",
       "            <td>2004-05</td> <td>30                </td>\n",
       "        </tr>\n",
       "        <tr>\n",
       "            <td>2004-06</td> <td>0                 </td>\n",
       "        </tr>\n",
       "        <tr>\n",
       "            <td>2004-07</td> <td>0                 </td>\n",
       "        </tr>\n",
       "        <tr>\n",
       "            <td>2004-08</td> <td>0                 </td>\n",
       "        </tr>\n",
       "        <tr>\n",
       "            <td>2004-09</td> <td>0                 </td>\n",
       "        </tr>\n",
       "        <tr>\n",
       "            <td>2004-10</td> <td>0                 </td>\n",
       "        </tr>\n",
       "        <tr>\n",
       "            <td>2004-11</td> <td>0                 </td>\n",
       "        </tr>\n",
       "        <tr>\n",
       "            <td>2004-12</td> <td>51                </td>\n",
       "        </tr>\n",
       "        <tr>\n",
       "            <td>2005-01</td> <td>0                 </td>\n",
       "        </tr>\n",
       "        <tr>\n",
       "            <td>2005-02</td> <td>0                 </td>\n",
       "        </tr>\n",
       "        <tr>\n",
       "            <td>2005-03</td> <td>20                </td>\n",
       "        </tr>\n",
       "        <tr>\n",
       "            <td>2005-04</td> <td>0                 </td>\n",
       "        </tr>\n",
       "        <tr>\n",
       "            <td>2005-05</td> <td>0                 </td>\n",
       "        </tr>\n",
       "        <tr>\n",
       "            <td>2005-06</td> <td>0                 </td>\n",
       "        </tr>\n",
       "        <tr>\n",
       "            <td>2005-07</td> <td>0                 </td>\n",
       "        </tr>\n",
       "        <tr>\n",
       "            <td>2005-08</td> <td>0                 </td>\n",
       "        </tr>\n",
       "    </tbody>\n",
       "</table>\n",
       "<p>... (188 rows omitted)</p>"
      ],
      "text/plain": [
       "<IPython.core.display.HTML object>"
      ]
     },
     "metadata": {},
     "output_type": "display_data"
    }
   ],
   "source": [
    "# Load in the following data\n",
    "sc = Table.read_table(\"single_cell_sequencing_pop.csv\").relabeled(1, \"Interest over time\")\n",
    "sc.show(20)"
   ]
  },
  {
   "cell_type": "markdown",
   "id": "f0d98462",
   "metadata": {},
   "source": [
    "The `sc` table contains the `Interest over time` for the search topic \"Single Cell Sequencing\", worldwide, broken down by `month`. Google trends defines Interest over time as:\n",
    "\n",
    "> Numbers represent search interest relative to the highest point on the chart for the given region and time. A value of 100 is the peak popularity for the term. A value of 50 means that the term is half as popular. A score of 0 means there was not enough data for this term."
   ]
  },
  {
   "cell_type": "markdown",
   "id": "a7ec2391",
   "metadata": {},
   "source": [
    "**Dataset Details:**\n",
    "- Origin: The dataset can be found [here](https://trends.google.com/trends/explore?date=all&q=%2Fm%2F0_t__77) **[We've already downloaded it for you]**\n",
    "- Extra Context: Google is not the predominant search engine in every country. Google may not be the primary tool used for scientific research. We're not sure of the accuracy of these reports."
   ]
  },
  {
   "cell_type": "markdown",
   "id": "96eb0686",
   "metadata": {},
   "source": [
    "The first month in the data set is January 2004. In order to visualize this data, we need to convert the month column to floats. Add a column called `Time` to the `sc` table with a decimal representation of the month. \n",
    "\n",
    "For example, the first month in the dataset, January 2004, should be represented as `2004.0`, the fifth month in the dataset should be `2004.3333` and the thirteenth month in the dataset should be `2005`."
   ]
  },
  {
   "cell_type": "code",
   "execution_count": 16,
   "id": "de1f9f60",
   "metadata": {},
   "outputs": [
    {
     "data": {
      "text/html": [
       "<table border=\"1\" class=\"dataframe\">\n",
       "    <thead>\n",
       "        <tr>\n",
       "            <th>Month</th> <th>Interest over time</th> <th>Time</th>\n",
       "        </tr>\n",
       "    </thead>\n",
       "    <tbody>\n",
       "        <tr>\n",
       "            <td>2004-01</td> <td>0                 </td> <td>2004   </td>\n",
       "        </tr>\n",
       "        <tr>\n",
       "            <td>2004-02</td> <td>0                 </td> <td>2004.08</td>\n",
       "        </tr>\n",
       "        <tr>\n",
       "            <td>2004-03</td> <td>0                 </td> <td>2004.17</td>\n",
       "        </tr>\n",
       "        <tr>\n",
       "            <td>2004-04</td> <td>0                 </td> <td>2004.25</td>\n",
       "        </tr>\n",
       "        <tr>\n",
       "            <td>2004-05</td> <td>30                </td> <td>2004.33</td>\n",
       "        </tr>\n",
       "        <tr>\n",
       "            <td>2004-06</td> <td>0                 </td> <td>2004.42</td>\n",
       "        </tr>\n",
       "        <tr>\n",
       "            <td>2004-07</td> <td>0                 </td> <td>2004.5 </td>\n",
       "        </tr>\n",
       "        <tr>\n",
       "            <td>2004-08</td> <td>0                 </td> <td>2004.58</td>\n",
       "        </tr>\n",
       "        <tr>\n",
       "            <td>2004-09</td> <td>0                 </td> <td>2004.67</td>\n",
       "        </tr>\n",
       "        <tr>\n",
       "            <td>2004-10</td> <td>0                 </td> <td>2004.75</td>\n",
       "        </tr>\n",
       "    </tbody>\n",
       "</table>\n",
       "<p>... (198 rows omitted)</p>"
      ],
      "text/plain": [
       "Month   | Interest over time | Time\n",
       "2004-01 | 0                  | 2004\n",
       "2004-02 | 0                  | 2004.08\n",
       "2004-03 | 0                  | 2004.17\n",
       "2004-04 | 0                  | 2004.25\n",
       "2004-05 | 30                 | 2004.33\n",
       "2004-06 | 0                  | 2004.42\n",
       "2004-07 | 0                  | 2004.5\n",
       "2004-08 | 0                  | 2004.58\n",
       "2004-09 | 0                  | 2004.67\n",
       "2004-10 | 0                  | 2004.75\n",
       "... (198 rows omitted)"
      ]
     },
     "execution_count": 16,
     "metadata": {},
     "output_type": "execute_result"
    }
   ],
   "source": [
    "# HINT: Try to use array arithmetic\n",
    "# HINT: How long should the array you add to the table be?\n",
    "# The sc table has one row for every month in the time frame... \n",
    "# how can you access the number of months?\n",
    "month_floats = 2004 + np.arange(0, sc.num_rows) / 12\n",
    "month_floats\n",
    "sc = sc.with_column(\"Time\", month_floats)\n",
    "sc"
   ]
  },
  {
   "cell_type": "code",
   "execution_count": 17,
   "id": "10d8fe5d",
   "metadata": {},
   "outputs": [
    {
     "data": {
      "image/png": "[encoded data removed]",
      "text/plain": [
       "<Figure size 360x360 with 1 Axes>"
      ]
     },
     "metadata": {},
     "output_type": "display_data"
    }
   ],
   "source": [
    "#Visualize the popularity of the search term 'Single Cell Sequencing' over the entire time range.\n",
    "sc.scatter(\"Time\", \"Interest over time\")\n",
    "plots.xticks(np.arange(2004, 2022), rotation = 45); "
   ]
  },
  {
   "cell_type": "code",
   "execution_count": 18,
   "id": "ec973573",
   "metadata": {},
   "outputs": [
    {
     "data": {
      "text/plain": [
       "'2008-12'"
      ]
     },
     "execution_count": 18,
     "metadata": {},
     "output_type": "execute_result"
    }
   ],
   "source": [
    "#Assign the corresponding string value from the `Month` column to `most_popular`.\n",
    "\n",
    "twenty_eighteen = sc.where(\"Time\", are.between(2008.0, 2009))\n",
    "most_popular = twenty_eighteen.sort(\"Interest over time\", descending=True).column(\"Month\").item(0)\n",
    "most_popular"
   ]
  },
  {
   "cell_type": "markdown",
   "id": "c27707ea",
   "metadata": {},
   "source": [
    "Oftentimes when working with data that is associated with times and dates, it is useful to take a \"Rolling Average\", which reports the value as the average value of the `k` previous points.\n",
    "\n",
    "If there aren't k values before the value you want the rolling average of, the rolling average value should be 0.\n",
    "\n",
    "I define the function `rolling_average`, which takes in the integer arguments `i` and `k`, and returns the `k` rolling average of the `Interest over time` values for the `i`th row in the popularity table.\n",
    "\n",
    "For example, if I want to take the rolling average of the previous k = 3 points for row with index i = 10, which rows do we want to be taking the Interest over time average for? (Rows with index 7, 8 and 9. Note that we do not include the value from the row with index 10).*\n",
    "\n",
    "**Hint: The following picture might help visualize this concept:**\n",
    "\n",
    "<img src=\"rolling_average.png\">"
   ]
  },
  {
   "cell_type": "code",
   "execution_count": 20,
   "id": "fce9f64f",
   "metadata": {},
   "outputs": [
    {
     "data": {
      "text/plain": [
       "6.75"
      ]
     },
     "execution_count": 20,
     "metadata": {},
     "output_type": "execute_result"
    }
   ],
   "source": [
    "def rolling_avg(i, k):\n",
    "    '''The k-rolling average for the ith row in the sc table.'''\n",
    "    if k > i:\n",
    "        return 0\n",
    "    k_previous_row_indices = np.arange(k) + i - k\n",
    "    tbl_k_rows = sc.take(k_previous_row_indices)\n",
    "    return np.average(tbl_k_rows.column(\"Interest over time\"))\n",
    "\n",
    "# The k=12 rolling average for month 13\n",
    "second_rolling_average = rolling_avg(13, 12)\n",
    "second_rolling_average"
   ]
  },
  {
   "cell_type": "markdown",
   "id": "6e61faae",
   "metadata": {},
   "source": [
    "Visualize the rolling average with `k=12` popularity of the search term 'Single Cell Sequencing' over the entire time range."
   ]
  },
  {
   "cell_type": "code",
   "execution_count": 21,
   "id": "5e9268bd",
   "metadata": {},
   "outputs": [
    {
     "data": {
      "text/html": [
       "<table border=\"1\" class=\"dataframe\">\n",
       "    <thead>\n",
       "        <tr>\n",
       "            <th>Month</th> <th>Interest over time</th> <th>Time</th> <th>Rolling Average</th>\n",
       "        </tr>\n",
       "    </thead>\n",
       "    <tbody>\n",
       "        <tr>\n",
       "            <td>2004-01</td> <td>0                 </td> <td>2004   </td> <td>0              </td>\n",
       "        </tr>\n",
       "        <tr>\n",
       "            <td>2004-02</td> <td>0                 </td> <td>2004.08</td> <td>0              </td>\n",
       "        </tr>\n",
       "        <tr>\n",
       "            <td>2004-03</td> <td>0                 </td> <td>2004.17</td> <td>0              </td>\n",
       "        </tr>\n",
       "        <tr>\n",
       "            <td>2004-04</td> <td>0                 </td> <td>2004.25</td> <td>0              </td>\n",
       "        </tr>\n",
       "        <tr>\n",
       "            <td>2004-05</td> <td>30                </td> <td>2004.33</td> <td>0              </td>\n",
       "        </tr>\n",
       "        <tr>\n",
       "            <td>2004-06</td> <td>0                 </td> <td>2004.42</td> <td>0              </td>\n",
       "        </tr>\n",
       "        <tr>\n",
       "            <td>2004-07</td> <td>0                 </td> <td>2004.5 </td> <td>0              </td>\n",
       "        </tr>\n",
       "        <tr>\n",
       "            <td>2004-08</td> <td>0                 </td> <td>2004.58</td> <td>0              </td>\n",
       "        </tr>\n",
       "        <tr>\n",
       "            <td>2004-09</td> <td>0                 </td> <td>2004.67</td> <td>0              </td>\n",
       "        </tr>\n",
       "        <tr>\n",
       "            <td>2004-10</td> <td>0                 </td> <td>2004.75</td> <td>0              </td>\n",
       "        </tr>\n",
       "    </tbody>\n",
       "</table>\n",
       "<p>... (198 rows omitted)</p>"
      ],
      "text/plain": [
       "Month   | Interest over time | Time    | Rolling Average\n",
       "2004-01 | 0                  | 2004    | 0\n",
       "2004-02 | 0                  | 2004.08 | 0\n",
       "2004-03 | 0                  | 2004.17 | 0\n",
       "2004-04 | 0                  | 2004.25 | 0\n",
       "2004-05 | 30                 | 2004.33 | 0\n",
       "2004-06 | 0                  | 2004.42 | 0\n",
       "2004-07 | 0                  | 2004.5  | 0\n",
       "2004-08 | 0                  | 2004.58 | 0\n",
       "2004-09 | 0                  | 2004.67 | 0\n",
       "2004-10 | 0                  | 2004.75 | 0\n",
       "... (198 rows omitted)"
      ]
     },
     "execution_count": 21,
     "metadata": {},
     "output_type": "execute_result"
    },
    {
     "data": {
      "image/png": "[encoded data removed]",
      "text/plain": [
       "<Figure size 432x432 with 1 Axes>"
      ]
     },
     "metadata": {},
     "output_type": "display_data"
    }
   ],
   "source": [
    "row_numbers = Table().with_columns(\"i\", np.arange(sc.num_rows), \"k\", 12)\n",
    "\n",
    "rolling_averages = row_numbers.apply(rolling_average,\"i\", \"k\")\n",
    "sc_rolling_average = sc.with_column(\"Rolling Average\", rolling_averages)\n",
    "sc_rolling_average.plot(\"Time\", \"Rolling Average\")\n",
    "\n",
    "\n",
    "plots.xticks(np.arange(2004, 2022), rotation = 45); \n",
    "sc_rolling_average"
   ]
  },
  {
   "cell_type": "markdown",
   "id": "0880b6fd",
   "metadata": {},
   "source": [
    "The graph demonstrates a somewhat slow and steady rise in popularity between mid-2013 and 2016, followed by a big boom of popularity between 2017 and 2020, peaking in the last quarter of 2020. The dip at the end of 2020 does not mean that fewer people are using the technology, it simply means that there was a reduction in frequency of how much people look up the term."
   ]
  },
  {
   "cell_type": "markdown",
   "id": "4ba56940",
   "metadata": {},
   "source": [
    "\n",
    "# 2. Single Cell RNA Sequencing Data"
   ]
  },
  {
   "cell_type": "markdown",
   "id": "0676d249",
   "metadata": {},
   "source": [
    "### Now that you have learned a bit about this new technology, I'm going to use real Single Cell RNA Sequencing (scRNA-seq) data to investigate cystic fibrosis."
   ]
  },
  {
   "cell_type": "markdown",
   "id": "06c1f0b6",
   "metadata": {},
   "source": [
    "This section of the project and section 3 are based on the paper [A revised airway epithelial hierarchy includes CFTR-expressing ionocytes](https://pubmed.ncbi.nlm.nih.gov/30069044/) and corresponding [data](https://singlecell.broadinstitute.org/single_cell/study/SCP163/airway-epithelium#study-summary).\n",
    "\n",
    ">\"The airways of the lung are the primary sites of disease in asthma and cystic fibrosis.\" (Montoro et al)\n",
    "\n",
    "Many diseases impact the function of the cells in our lungs, including cystic fibrosis.\n",
    "\n",
    ">\"Cystic fibrosis (CF) is a genetic disorder that affects mostly the lungs, but also the pancreas, liver, kidneys, and intestine. Long-term issues include difficulty breathing and coughing up mucus as a result of frequent lung infections.\" [Wikipedia](https://en.wikipedia.org/wiki/Cystic_fibrosis)\n",
    "\n",
    "Using Single Cell Sequencing and data science, biologists in the paper were able to identify a small subset of lung cells that appear to be the primary instigators of cystic fibrosis. By identifying these cells, scientists will be able to target drugs to cure cystic fibrosis with more accuracy. \n",
    "\n",
    "**I will work to identify these same cells**"
   ]
  },
  {
   "cell_type": "markdown",
   "id": "975489cf",
   "metadata": {},
   "source": [
    "### Data Format"
   ]
  },
  {
   "cell_type": "markdown",
   "id": "6e41b8df",
   "metadata": {},
   "source": [
    "Single Cell RNA Sequencing (scRNA-seq) data is generally stored in a special data-saving format called the \"Market Exchange Format\" (MEX).\n",
    "\n",
    "scRNA-seq experiments collect a gene RNA expression value for every single cell, and every gene, in a sample of tissue. Since gene RNA expression values are 0 for many gene-cell pairs, the MEX format does not store these values."
   ]
  },
  {
   "cell_type": "markdown",
   "id": "8165aba4",
   "metadata": {},
   "source": [
    "Let's take a look at the data from the study. The biologists analyzed 7193 mouse cells.\n",
    "\n",
    "The following cells read in the `matrix`, `cells` and `genes` tables.\n",
    "\n",
    "**Dataset Details:**\n",
    "- Origin: This dataset was sourced from [here](https://singlecell.broadinstitute.org/single_cell/study/SCP163/airway-epithelium#study-summary). **Not required:** To access the data, you can login with a google account. To replicate the expression data, you can download the required files listed in data_gen.ipynb and data_gen_2.ipynb. **[You don't have to do this, we've already done it for you]**\n",
    "- Extra Context: There is no other context for this data."
   ]
  },
  {
   "cell_type": "code",
   "execution_count": 22,
   "id": "80b46aba",
   "metadata": {},
   "outputs": [],
   "source": [
    "matrix = Table.read_table(\"matrix.csv\")\n",
    "cells = Table.read_table(\"cells.csv\")\n",
    "genes = Table.read_table(\"genes.csv\")"
   ]
  },
  {
   "cell_type": "markdown",
   "id": "7e3f5a8b",
   "metadata": {},
   "source": [
    "The `matrix` table contains one row **for each pair of Gene and Cell that had an RNA expression above 0**. Instead of using the names of the genes and cells, the `matrix` table instead refers to them by their numbers, stored in the `Gene Number` and `Cell Number` columns."
   ]
  },
  {
   "cell_type": "code",
   "execution_count": 23,
   "id": "082c97e4",
   "metadata": {},
   "outputs": [
    {
     "data": {
      "text/html": [
       "<table border=\"1\" class=\"dataframe\">\n",
       "    <thead>\n",
       "        <tr>\n",
       "            <th>Gene Number</th> <th>Cell Number</th> <th>Expression</th>\n",
       "        </tr>\n",
       "    </thead>\n",
       "    <tbody>\n",
       "        <tr>\n",
       "            <td>9          </td> <td>2          </td> <td>1.07      </td>\n",
       "        </tr>\n",
       "        <tr>\n",
       "            <td>8          </td> <td>5          </td> <td>0.8       </td>\n",
       "        </tr>\n",
       "        <tr>\n",
       "            <td>8          </td> <td>8          </td> <td>0.81      </td>\n",
       "        </tr>\n",
       "        <tr>\n",
       "            <td>8          </td> <td>10         </td> <td>3.81      </td>\n",
       "        </tr>\n",
       "        <tr>\n",
       "            <td>9          </td> <td>10         </td> <td>2.42      </td>\n",
       "        </tr>\n",
       "        <tr>\n",
       "            <td>8          </td> <td>11         </td> <td>1.35      </td>\n",
       "        </tr>\n",
       "        <tr>\n",
       "            <td>9          </td> <td>12         </td> <td>1.38      </td>\n",
       "        </tr>\n",
       "        <tr>\n",
       "            <td>8          </td> <td>13         </td> <td>0.72      </td>\n",
       "        </tr>\n",
       "        <tr>\n",
       "            <td>9          </td> <td>14         </td> <td>0.74      </td>\n",
       "        </tr>\n",
       "        <tr>\n",
       "            <td>9          </td> <td>18         </td> <td>1.68      </td>\n",
       "        </tr>\n",
       "    </tbody>\n",
       "</table>\n",
       "<p>... (4345 rows omitted)</p>"
      ],
      "text/plain": [
       "Gene Number | Cell Number | Expression\n",
       "9           | 2           | 1.07\n",
       "8           | 5           | 0.8\n",
       "8           | 8           | 0.81\n",
       "8           | 10          | 3.81\n",
       "9           | 10          | 2.42\n",
       "8           | 11          | 1.35\n",
       "9           | 12          | 1.38\n",
       "8           | 13          | 0.72\n",
       "9           | 14          | 0.74\n",
       "9           | 18          | 1.68\n",
       "... (4345 rows omitted)"
      ]
     },
     "execution_count": 23,
     "metadata": {},
     "output_type": "execute_result"
    }
   ],
   "source": [
    "matrix"
   ]
  },
  {
   "cell_type": "code",
   "execution_count": 24,
   "id": "299bc475",
   "metadata": {},
   "outputs": [
    {
     "data": {
      "text/html": [
       "<table border=\"1\" class=\"dataframe\">\n",
       "    <thead>\n",
       "        <tr>\n",
       "            <th>Cell Name</th> <th>Cell Number</th>\n",
       "        </tr>\n",
       "    </thead>\n",
       "    <tbody>\n",
       "        <tr>\n",
       "            <td>WT_M1_GCTTGAGAAGTCGT</td> <td>1          </td>\n",
       "        </tr>\n",
       "        <tr>\n",
       "            <td>WT_M1_GGAACACTTTCGTT</td> <td>2          </td>\n",
       "        </tr>\n",
       "        <tr>\n",
       "            <td>WT_M1_GGAATGCTTCGACA</td> <td>3          </td>\n",
       "        </tr>\n",
       "        <tr>\n",
       "            <td>WT_M1_GGACAACTCTGAGT</td> <td>4          </td>\n",
       "        </tr>\n",
       "        <tr>\n",
       "            <td>WT_M1_GGACAACTTCGCTC</td> <td>5          </td>\n",
       "        </tr>\n",
       "        <tr>\n",
       "            <td>WT_M1_GGACATTGTCTGGA</td> <td>6          </td>\n",
       "        </tr>\n",
       "        <tr>\n",
       "            <td>WT_M1_GGACCCGAAGAGTA</td> <td>7          </td>\n",
       "        </tr>\n",
       "        <tr>\n",
       "            <td>WT_M1_GGACCTCTGGTTCA</td> <td>8          </td>\n",
       "        </tr>\n",
       "        <tr>\n",
       "            <td>WT_M1_GGACTATGCGCCTT</td> <td>9          </td>\n",
       "        </tr>\n",
       "        <tr>\n",
       "            <td>WT_M1_GGAGCAGATGGAGG</td> <td>10         </td>\n",
       "        </tr>\n",
       "    </tbody>\n",
       "</table>\n",
       "<p>... (7183 rows omitted)</p>"
      ],
      "text/plain": [
       "Cell Name            | Cell Number\n",
       "WT_M1_GCTTGAGAAGTCGT | 1\n",
       "WT_M1_GGAACACTTTCGTT | 2\n",
       "WT_M1_GGAATGCTTCGACA | 3\n",
       "WT_M1_GGACAACTCTGAGT | 4\n",
       "WT_M1_GGACAACTTCGCTC | 5\n",
       "WT_M1_GGACATTGTCTGGA | 6\n",
       "WT_M1_GGACCCGAAGAGTA | 7\n",
       "WT_M1_GGACCTCTGGTTCA | 8\n",
       "WT_M1_GGACTATGCGCCTT | 9\n",
       "WT_M1_GGAGCAGATGGAGG | 10\n",
       "... (7183 rows omitted)"
      ]
     },
     "execution_count": 24,
     "metadata": {},
     "output_type": "execute_result"
    }
   ],
   "source": [
    "cells"
   ]
  },
  {
   "cell_type": "code",
   "execution_count": 25,
   "id": "46f488d3",
   "metadata": {},
   "outputs": [
    {
     "data": {
      "text/html": [
       "<table border=\"1\" class=\"dataframe\">\n",
       "    <thead>\n",
       "        <tr>\n",
       "            <th>Gene Name</th> <th>Gene Number</th>\n",
       "        </tr>\n",
       "    </thead>\n",
       "    <tbody>\n",
       "        <tr>\n",
       "            <td>P2ry14   </td> <td>1          </td>\n",
       "        </tr>\n",
       "        <tr>\n",
       "            <td>Atp6v0d2 </td> <td>2          </td>\n",
       "        </tr>\n",
       "        <tr>\n",
       "            <td>Stap1    </td> <td>3          </td>\n",
       "        </tr>\n",
       "        <tr>\n",
       "            <td>Cftr     </td> <td>4          </td>\n",
       "        </tr>\n",
       "        <tr>\n",
       "            <td>Ascl3    </td> <td>5          </td>\n",
       "        </tr>\n",
       "        <tr>\n",
       "            <td>Moxd1    </td> <td>6          </td>\n",
       "        </tr>\n",
       "        <tr>\n",
       "            <td>Foxi1    </td> <td>7          </td>\n",
       "        </tr>\n",
       "        <tr>\n",
       "            <td>Asgr1    </td> <td>8          </td>\n",
       "        </tr>\n",
       "        <tr>\n",
       "            <td>Atp6v1c2 </td> <td>9          </td>\n",
       "        </tr>\n",
       "    </tbody>\n",
       "</table>"
      ],
      "text/plain": [
       "Gene Name | Gene Number\n",
       "P2ry14    | 1\n",
       "Atp6v0d2  | 2\n",
       "Stap1     | 3\n",
       "Cftr      | 4\n",
       "Ascl3     | 5\n",
       "Moxd1     | 6\n",
       "Foxi1     | 7\n",
       "Asgr1     | 8\n",
       "Atp6v1c2  | 9"
      ]
     },
     "execution_count": 25,
     "metadata": {},
     "output_type": "execute_result"
    }
   ],
   "source": [
    "genes"
   ]
  },
  {
   "cell_type": "markdown",
   "id": "17a54e9a",
   "metadata": {},
   "source": [
    "I assign `num_obs` to the number of possible cell and gene pairs in the experiment. A cell and gene pair is known as an observation (I make sure to count RNA expression values that are equal to 0)."
   ]
  },
  {
   "cell_type": "code",
   "execution_count": 26,
   "id": "448ba729",
   "metadata": {},
   "outputs": [
    {
     "data": {
      "text/plain": [
       "64737"
      ]
     },
     "execution_count": 26,
     "metadata": {},
     "output_type": "execute_result"
    }
   ],
   "source": [
    "num_obs = genes.num_rows * cells.num_rows\n",
    "num_obs"
   ]
  },
  {
   "cell_type": "markdown",
   "id": "71f1dc4a",
   "metadata": {},
   "source": [
    "Cell Numbers and Gene Numbers can be difficult to work with. So I assign `matrix_with_names` to a copy of the `matrix` table but with the *names* of Cells and Genes instead of numbers. The new table should have the columns `Cell`, `Gene` and `Expression`.\n"
   ]
  },
  {
   "cell_type": "code",
   "execution_count": 29,
   "id": "d1d27c6a",
   "metadata": {},
   "outputs": [
    {
     "data": {
      "text/html": [
       "<table border=\"1\" class=\"dataframe\">\n",
       "    <thead>\n",
       "        <tr>\n",
       "            <th>Expression</th> <th>Cell</th> <th>Gene</th>\n",
       "        </tr>\n",
       "    </thead>\n",
       "    <tbody>\n",
       "        <tr>\n",
       "            <td>0.82      </td> <td>WT_M1_TACGAGTGAGCCAT</td> <td>P2ry14</td>\n",
       "        </tr>\n",
       "        <tr>\n",
       "            <td>0.46      </td> <td>WT_M1_TTGCATTGACCGAT</td> <td>P2ry14</td>\n",
       "        </tr>\n",
       "        <tr>\n",
       "            <td>1.95      </td> <td>WT_M2_AACTCACTGAACTC</td> <td>P2ry14</td>\n",
       "        </tr>\n",
       "        <tr>\n",
       "            <td>1.8       </td> <td>WT_M2_ACCACCTGAAAGTG</td> <td>P2ry14</td>\n",
       "        </tr>\n",
       "        <tr>\n",
       "            <td>1.53      </td> <td>WT_M2_ACGACAACTGGTGT</td> <td>P2ry14</td>\n",
       "        </tr>\n",
       "        <tr>\n",
       "            <td>1.04      </td> <td>WT_M2_AGCTGTGATATGCG</td> <td>P2ry14</td>\n",
       "        </tr>\n",
       "        <tr>\n",
       "            <td>0.83      </td> <td>WT_M2_AGGTCTGAGCGTTA</td> <td>P2ry14</td>\n",
       "        </tr>\n",
       "        <tr>\n",
       "            <td>0.79      </td> <td>WT_M2_ATACCTACTTACCT</td> <td>P2ry14</td>\n",
       "        </tr>\n",
       "        <tr>\n",
       "            <td>1.57      </td> <td>WT_M2_ATTAGTGAATTCGG</td> <td>P2ry14</td>\n",
       "        </tr>\n",
       "        <tr>\n",
       "            <td>4.24      </td> <td>WT_M2_ATTGCTTGTCTCAT</td> <td>P2ry14</td>\n",
       "        </tr>\n",
       "    </tbody>\n",
       "</table>\n",
       "<p>... (4345 rows omitted)</p>"
      ],
      "text/plain": [
       "Expression | Cell                 | Gene\n",
       "0.82       | WT_M1_TACGAGTGAGCCAT | P2ry14\n",
       "0.46       | WT_M1_TTGCATTGACCGAT | P2ry14\n",
       "1.95       | WT_M2_AACTCACTGAACTC | P2ry14\n",
       "1.8        | WT_M2_ACCACCTGAAAGTG | P2ry14\n",
       "1.53       | WT_M2_ACGACAACTGGTGT | P2ry14\n",
       "1.04       | WT_M2_AGCTGTGATATGCG | P2ry14\n",
       "0.83       | WT_M2_AGGTCTGAGCGTTA | P2ry14\n",
       "0.79       | WT_M2_ATACCTACTTACCT | P2ry14\n",
       "1.57       | WT_M2_ATTAGTGAATTCGG | P2ry14\n",
       "4.24       | WT_M2_ATTGCTTGTCTCAT | P2ry14\n",
       "... (4345 rows omitted)"
      ]
     },
     "execution_count": 29,
     "metadata": {},
     "output_type": "execute_result"
    }
   ],
   "source": [
    "matrix_with_cell_names = matrix.join(\"Cell Number\", cells)\n",
    "matrix_with_gene_names = matrix_with_cell_names.join(\"Gene Number\", genes)\n",
    "matrix_with_names = matrix_with_gene_names.drop(\"Cell Number\", \"Gene Number\").relabel(\"Cell Name\", \"Cell\").relabel(\"Gene Name\", \"Gene\")\n",
    "matrix_with_names"
   ]
  },
  {
   "cell_type": "markdown",
   "id": "be88a9fb",
   "metadata": {},
   "source": [
    "We use cell and gene numbers instead of names to save space. How many characters in total are used to store the names of cells and the names of genes in all of `matrix_with_names`? I assign that value to `num_chars`."
   ]
  },
  {
   "cell_type": "code",
   "execution_count": 30,
   "id": "7003b278",
   "metadata": {},
   "outputs": [
    {
     "data": {
      "text/plain": [
       "121756"
      ]
     },
     "execution_count": 30,
     "metadata": {},
     "output_type": "execute_result"
    }
   ],
   "source": [
    "num_gene_chars = matrix_with_names.column(\"Gene\")\n",
    "num_cell_chars = matrix_with_names.column(\"Cell\")\n",
    "\n",
    "char_in_gene = 0\n",
    "for word in num_gene_chars:\n",
    "        char_in_gene += len(word)\n",
    "\n",
    "char_in_cell = 0\n",
    "for word in num_cell_chars:\n",
    "        char_in_cell += len(word)\n",
    "\n",
    "\n",
    "num_chars = char_in_gene + char_in_cell\n",
    "num_chars"
   ]
  },
  {
   "cell_type": "markdown",
   "id": "39eb19d7",
   "metadata": {},
   "source": [
    "In order to perform more data analysis, it would be helpful to have a table that lists all the pairs of genes and cells, including those where the expression value is 0.\n",
    "\n",
    "I assign `dense_matrix` to a table that has a column for cell names called `Cell`, and a column for each gene name. Each row should contain the expression values for the corresponding cell if there is any expression, or 0 if there is no expression."
   ]
  },
  {
   "cell_type": "code",
   "execution_count": 31,
   "id": "aba3fa40",
   "metadata": {},
   "outputs": [
    {
     "data": {
      "text/html": [
       "<table border=\"1\" class=\"dataframe\">\n",
       "    <thead>\n",
       "        <tr>\n",
       "            <th>Cell</th> <th>Ascl3</th> <th>Asgr1</th> <th>Atp6v0d2</th> <th>Atp6v1c2</th> <th>Cftr</th> <th>Foxi1</th> <th>Moxd1</th> <th>P2ry14</th> <th>Stap1</th>\n",
       "        </tr>\n",
       "    </thead>\n",
       "    <tbody>\n",
       "        <tr>\n",
       "            <td>Foxj1GFP_M1_AAAGATCTTGCATG</td> <td>0    </td> <td>0    </td> <td>0       </td> <td>1.63    </td> <td>0   </td> <td>0    </td> <td>0    </td> <td>0     </td> <td>0    </td>\n",
       "        </tr>\n",
       "        <tr>\n",
       "            <td>Foxj1GFP_M1_AACCGATGAGATCC</td> <td>0    </td> <td>0    </td> <td>0       </td> <td>1.17    </td> <td>0   </td> <td>0    </td> <td>0    </td> <td>0     </td> <td>0    </td>\n",
       "        </tr>\n",
       "        <tr>\n",
       "            <td>Foxj1GFP_M1_AACGGTACAACTGC</td> <td>0    </td> <td>0    </td> <td>0       </td> <td>1.52    </td> <td>0   </td> <td>0    </td> <td>0    </td> <td>0     </td> <td>0    </td>\n",
       "        </tr>\n",
       "        <tr>\n",
       "            <td>Foxj1GFP_M1_AATAGGGATTCGTT</td> <td>0    </td> <td>0    </td> <td>0       </td> <td>2.17    </td> <td>0   </td> <td>0    </td> <td>0    </td> <td>0     </td> <td>0    </td>\n",
       "        </tr>\n",
       "        <tr>\n",
       "            <td>Foxj1GFP_M1_AATCAAACGGCATT</td> <td>0    </td> <td>0    </td> <td>0       </td> <td>2.46    </td> <td>0   </td> <td>0    </td> <td>0    </td> <td>0     </td> <td>0    </td>\n",
       "        </tr>\n",
       "        <tr>\n",
       "            <td>Foxj1GFP_M1_AATCCGGAGGTCAT</td> <td>0    </td> <td>0    </td> <td>0       </td> <td>1.56    </td> <td>0   </td> <td>0    </td> <td>0    </td> <td>0     </td> <td>0    </td>\n",
       "        </tr>\n",
       "        <tr>\n",
       "            <td>Foxj1GFP_M1_AATCCTACGGTGAG</td> <td>0    </td> <td>0    </td> <td>0       </td> <td>2.72    </td> <td>0   </td> <td>0    </td> <td>0    </td> <td>0     </td> <td>0    </td>\n",
       "        </tr>\n",
       "        <tr>\n",
       "            <td>Foxj1GFP_M1_AATCTCTGAACAGA</td> <td>0    </td> <td>0    </td> <td>0       </td> <td>2.47    </td> <td>0   </td> <td>0    </td> <td>0    </td> <td>0     </td> <td>0    </td>\n",
       "        </tr>\n",
       "        <tr>\n",
       "            <td>Foxj1GFP_M1_AATGGCTGAGTGTC</td> <td>0    </td> <td>0    </td> <td>0       </td> <td>1.26    </td> <td>0   </td> <td>0    </td> <td>0    </td> <td>0     </td> <td>0    </td>\n",
       "        </tr>\n",
       "        <tr>\n",
       "            <td>Foxj1GFP_M1_AATGTCCTAGCACT</td> <td>0    </td> <td>0    </td> <td>0       </td> <td>1.5     </td> <td>0   </td> <td>0    </td> <td>0    </td> <td>0     </td> <td>0    </td>\n",
       "        </tr>\n",
       "    </tbody>\n",
       "</table>\n",
       "<p>... (3697 rows omitted)</p>"
      ],
      "text/plain": [
       "Cell                       | Ascl3 | Asgr1 | Atp6v0d2 | Atp6v1c2 | Cftr | Foxi1 | Moxd1 | P2ry14 | Stap1\n",
       "Foxj1GFP_M1_AAAGATCTTGCATG | 0     | 0     | 0        | 1.63     | 0    | 0     | 0     | 0      | 0\n",
       "Foxj1GFP_M1_AACCGATGAGATCC | 0     | 0     | 0        | 1.17     | 0    | 0     | 0     | 0      | 0\n",
       "Foxj1GFP_M1_AACGGTACAACTGC | 0     | 0     | 0        | 1.52     | 0    | 0     | 0     | 0      | 0\n",
       "Foxj1GFP_M1_AATAGGGATTCGTT | 0     | 0     | 0        | 2.17     | 0    | 0     | 0     | 0      | 0\n",
       "Foxj1GFP_M1_AATCAAACGGCATT | 0     | 0     | 0        | 2.46     | 0    | 0     | 0     | 0      | 0\n",
       "Foxj1GFP_M1_AATCCGGAGGTCAT | 0     | 0     | 0        | 1.56     | 0    | 0     | 0     | 0      | 0\n",
       "Foxj1GFP_M1_AATCCTACGGTGAG | 0     | 0     | 0        | 2.72     | 0    | 0     | 0     | 0      | 0\n",
       "Foxj1GFP_M1_AATCTCTGAACAGA | 0     | 0     | 0        | 2.47     | 0    | 0     | 0     | 0      | 0\n",
       "Foxj1GFP_M1_AATGGCTGAGTGTC | 0     | 0     | 0        | 1.26     | 0    | 0     | 0     | 0      | 0\n",
       "Foxj1GFP_M1_AATGTCCTAGCACT | 0     | 0     | 0        | 1.5      | 0    | 0     | 0     | 0      | 0\n",
       "... (3697 rows omitted)"
      ]
     },
     "execution_count": 31,
     "metadata": {},
     "output_type": "execute_result"
    }
   ],
   "source": [
    "def first_or_zero(arr):\n",
    "    '''Returns the first value in the array or 0 if the array is empty.'''\n",
    "    if (len(arr) == 0):\n",
    "        return 0\n",
    "    else:\n",
    "        return arr.item(0)\n",
    "    \n",
    "dense_matrix = matrix_with_names.pivot(\"Gene\", \"Cell\", \"Expression\", first_or_zero)\n",
    "dense_matrix"
   ]
  },
  {
   "cell_type": "markdown",
   "id": "9528df8e",
   "metadata": {},
   "source": [
    "### Marker Genes"
   ]
  },
  {
   "cell_type": "markdown",
   "id": "d2298d88",
   "metadata": {},
   "source": [
    "The gene Cftr has been associated with cystic fibrosis. The table `dense_matrix` contains the expression of 8 genes of interest including Cftr. We call these genes \"marker genes\"."
   ]
  },
  {
   "cell_type": "markdown",
   "id": "454dc0a9",
   "metadata": {},
   "source": [
    "The biologists wanted to study the effect of using genetic engineering to \"turn off\" the `Foxi1` gene in some of the mice in the study (we'll see why in part 3).\n",
    "\n",
    "Some of the cells start with the 2-letter prefix \"WT\". \"WT\" stands for \"Wild type\", which indicates that the cells come from mice *that were not genetically engineered*. (Wild type can be thought of as the control group).\n",
    "\n",
    "First, in only the wild type group (control), we want to understand the association between expression of the genes Cftr and Foxi1. \n",
    "\n",
    "*If we looked at the non-wild type group, all the values for `Foxi1` would be 0, since we turned it off in those mice.*"
   ]
  },
  {
   "cell_type": "code",
   "execution_count": 34,
   "id": "cf273bc2",
   "metadata": {},
   "outputs": [
    {
     "data": {
      "image/png": "[encoded data removed]",
      "text/plain": [
       "<Figure size 360x360 with 1 Axes>"
      ]
     },
     "metadata": {},
     "output_type": "display_data"
    }
   ],
   "source": [
    "#Next, we visualize the association between expression of the genes `Cftr` and `Foxi1` in cells that start with `\"WT\"`.\n",
    "\n",
    "def first_two_letters(string):\n",
    "    '''Returns the first two characters of a string'''\n",
    "    return string[0:2]\n",
    "\n",
    "dense_array = dense_matrix.apply(first_two_letters, \"Cell\")\n",
    "dense_table = dense_matrix.with_column(\"First Two\", dense_array).where(\"First Two\", \"WT\")\n",
    "#dense_matrix.where(\"Cell\", are.containing(\"WT\")).select(\"Cftr\", \"Foxi1\")\n",
    "dense_table.scatter(\"Cftr\", \"Foxi1\")"
   ]
  },
  {
   "cell_type": "markdown",
   "id": "db362bb8",
   "metadata": {},
   "source": [
    "\n",
    "We observe a positive association in the expression between these two genes.\n",
    "\n",
    "### Now that we have successfully loaded in the study data, and started some initial data exploration, we are ready to start investigating the study's findings with regards to cystic fibrosis!"
   ]
  },
  {
   "cell_type": "markdown",
   "id": "24b2f813",
   "metadata": {},
   "source": [
    "# 3. Cystic Fibrosis"
   ]
  },
  {
   "cell_type": "markdown",
   "id": "02838d20",
   "metadata": {},
   "source": [
    "### Now that I have processed the data from the experiment, I can determine which specific cells are associated with cystic fibrosis."
   ]
  },
  {
   "cell_type": "markdown",
   "id": "d2e9ac77",
   "metadata": {},
   "source": [
    "In addition to expression data, the biologists also collected other information about each cell, which will help determine the type of cell associated with cystic fibrosis.\n",
    "\n",
    "We load in the `tsne` and `metadata` tables.\n",
    "\n",
    "The `tsne` table contains the `Name` of each cell, and summary numerical values, `X` and `Y`.\n",
    "\n",
    "The `metadata` table contains more metrics about each cell. \n",
    "\n",
    "**In this case, metadata simply means \"a set of data that describes and gives information about other data.\"**\n",
    "\n",
    "**Dataset Details:**\n",
    "- Origin: This dataset was sourced from [here](https://singlecell.broadinstitute.org/single_cell/study/SCP163/airway-epithelium#study-summary). **Not required:** To access the data, you can login with a google account. To replicate the expression data, you can download the required files listed in data_gen.ipynb and data_gen_2.ipynb. **[You don't have to do this, we've already done it for you]**\n",
    "- Extra Context: There is no other context for this data."
   ]
  },
  {
   "cell_type": "code",
   "execution_count": 37,
   "id": "2c96dde7",
   "metadata": {},
   "outputs": [
    {
     "data": {
      "text/html": [
       "<table border=\"1\" class=\"dataframe\">\n",
       "    <thead>\n",
       "        <tr>\n",
       "            <th>NAME</th> <th>X</th> <th>Y</th>\n",
       "        </tr>\n",
       "    </thead>\n",
       "    <tbody>\n",
       "        <tr>\n",
       "            <td>WT_M1_GCTTGAGAAGTCGT</td> <td>33.7013 </td> <td>2.65951 </td>\n",
       "        </tr>\n",
       "        <tr>\n",
       "            <td>WT_M1_GGAACACTTTCGTT</td> <td>-9.32879</td> <td>-35.3672</td>\n",
       "        </tr>\n",
       "        <tr>\n",
       "            <td>WT_M1_GGAATGCTTCGACA</td> <td>4.09252 </td> <td>-30.9445</td>\n",
       "        </tr>\n",
       "        <tr>\n",
       "            <td>WT_M1_GGACAACTCTGAGT</td> <td>2.11504 </td> <td>13.1975 </td>\n",
       "        </tr>\n",
       "        <tr>\n",
       "            <td>WT_M1_GGACAACTTCGCTC</td> <td>-7.19801</td> <td>-34.8209</td>\n",
       "        </tr>\n",
       "        <tr>\n",
       "            <td>WT_M1_GGACATTGTCTGGA</td> <td>23.2688 </td> <td>-10.2378</td>\n",
       "        </tr>\n",
       "        <tr>\n",
       "            <td>WT_M1_GGACCCGAAGAGTA</td> <td>-17.8078</td> <td>-46.4286</td>\n",
       "        </tr>\n",
       "        <tr>\n",
       "            <td>WT_M1_GGACCTCTGGTTCA</td> <td>-17.0704</td> <td>-40.0664</td>\n",
       "        </tr>\n",
       "        <tr>\n",
       "            <td>WT_M1_GGACTATGCGCCTT</td> <td>-4.56393</td> <td>-20.1234</td>\n",
       "        </tr>\n",
       "        <tr>\n",
       "            <td>WT_M1_GGAGCAGATGGAGG</td> <td>6.20114 </td> <td>-55.6744</td>\n",
       "        </tr>\n",
       "    </tbody>\n",
       "</table>\n",
       "<p>... (7183 rows omitted)</p>"
      ],
      "text/plain": [
       "NAME                 | X        | Y\n",
       "WT_M1_GCTTGAGAAGTCGT | 33.7013  | 2.65951\n",
       "WT_M1_GGAACACTTTCGTT | -9.32879 | -35.3672\n",
       "WT_M1_GGAATGCTTCGACA | 4.09252  | -30.9445\n",
       "WT_M1_GGACAACTCTGAGT | 2.11504  | 13.1975\n",
       "WT_M1_GGACAACTTCGCTC | -7.19801 | -34.8209\n",
       "WT_M1_GGACATTGTCTGGA | 23.2688  | -10.2378\n",
       "WT_M1_GGACCCGAAGAGTA | -17.8078 | -46.4286\n",
       "WT_M1_GGACCTCTGGTTCA | -17.0704 | -40.0664\n",
       "WT_M1_GGACTATGCGCCTT | -4.56393 | -20.1234\n",
       "WT_M1_GGAGCAGATGGAGG | 6.20114  | -55.6744\n",
       "... (7183 rows omitted)"
      ]
     },
     "execution_count": 37,
     "metadata": {},
     "output_type": "execute_result"
    }
   ],
   "source": [
    "tsne = Table.read_table(\"tsne.tsv\", sep=\"\\t\")\n",
    "tsne"
   ]
  },
  {
   "cell_type": "code",
   "execution_count": 38,
   "id": "b6623db6",
   "metadata": {},
   "outputs": [
    {
     "data": {
      "text/html": [
       "<table border=\"1\" class=\"dataframe\">\n",
       "    <thead>\n",
       "        <tr>\n",
       "            <th>NAME</th> <th>cluster</th> <th>mouse</th> <th>nGene</th> <th>Basal_score</th> <th>Club_score</th> <th>Ciliated_score</th>\n",
       "        </tr>\n",
       "    </thead>\n",
       "    <tbody>\n",
       "        <tr>\n",
       "            <td>WT_M1_GCTTGAGAAGTCGT</td> <td>Club   </td> <td>WT_M1</td> <td>2063 </td> <td>0.375      </td> <td>1.17072   </td> <td>-0.42541      </td>\n",
       "        </tr>\n",
       "        <tr>\n",
       "            <td>WT_M1_GGAACACTTTCGTT</td> <td>Club   </td> <td>WT_M1</td> <td>1571 </td> <td>-1.71258   </td> <td>2.6425    </td> <td>0             </td>\n",
       "        </tr>\n",
       "        <tr>\n",
       "            <td>WT_M1_GGAATGCTTCGACA</td> <td>Club   </td> <td>WT_M1</td> <td>1881 </td> <td>-1.63678   </td> <td>2.73738   </td> <td>0.140587      </td>\n",
       "        </tr>\n",
       "        <tr>\n",
       "            <td>WT_M1_GGACAACTCTGAGT</td> <td>Basal  </td> <td>WT_M1</td> <td>2061 </td> <td>0.645919   </td> <td>0.913838  </td> <td>-0.278481     </td>\n",
       "        </tr>\n",
       "        <tr>\n",
       "            <td>WT_M1_GGACAACTTCGCTC</td> <td>Club   </td> <td>WT_M1</td> <td>2114 </td> <td>-1.70651   </td> <td>2.51677   </td> <td>0.0474835     </td>\n",
       "        </tr>\n",
       "        <tr>\n",
       "            <td>WT_M1_GGACATTGTCTGGA</td> <td>Club   </td> <td>WT_M1</td> <td>1585 </td> <td>-1.39376   </td> <td>1.66843   </td> <td>-0.357173     </td>\n",
       "        </tr>\n",
       "        <tr>\n",
       "            <td>WT_M1_GGACCCGAAGAGTA</td> <td>Club   </td> <td>WT_M1</td> <td>1694 </td> <td>-1.28335   </td> <td>2.72615   </td> <td>-0.0568574    </td>\n",
       "        </tr>\n",
       "        <tr>\n",
       "            <td>WT_M1_GGACCTCTGGTTCA</td> <td>Club   </td> <td>WT_M1</td> <td>2182 </td> <td>-1.51001   </td> <td>2.86138   </td> <td>0.0972027     </td>\n",
       "        </tr>\n",
       "        <tr>\n",
       "            <td>WT_M1_GGACTATGCGCCTT</td> <td>Club   </td> <td>WT_M1</td> <td>2116 </td> <td>-1.5365    </td> <td>1.73065   </td> <td>0.018228      </td>\n",
       "        </tr>\n",
       "        <tr>\n",
       "            <td>WT_M1_GGAGCAGATGGAGG</td> <td>Club   </td> <td>WT_M1</td> <td>1202 </td> <td>-1.99302   </td> <td>3.13552   </td> <td>-0.0332952    </td>\n",
       "        </tr>\n",
       "    </tbody>\n",
       "</table>\n",
       "<p>... (7183 rows omitted)</p>"
      ],
      "text/plain": [
       "NAME                 | cluster | mouse | nGene | Basal_score | Club_score | Ciliated_score\n",
       "WT_M1_GCTTGAGAAGTCGT | Club    | WT_M1 | 2063  | 0.375       | 1.17072    | -0.42541\n",
       "WT_M1_GGAACACTTTCGTT | Club    | WT_M1 | 1571  | -1.71258    | 2.6425     | 0\n",
       "WT_M1_GGAATGCTTCGACA | Club    | WT_M1 | 1881  | -1.63678    | 2.73738    | 0.140587\n",
       "WT_M1_GGACAACTCTGAGT | Basal   | WT_M1 | 2061  | 0.645919    | 0.913838   | -0.278481\n",
       "WT_M1_GGACAACTTCGCTC | Club    | WT_M1 | 2114  | -1.70651    | 2.51677    | 0.0474835\n",
       "WT_M1_GGACATTGTCTGGA | Club    | WT_M1 | 1585  | -1.39376    | 1.66843    | -0.357173\n",
       "WT_M1_GGACCCGAAGAGTA | Club    | WT_M1 | 1694  | -1.28335    | 2.72615    | -0.0568574\n",
       "WT_M1_GGACCTCTGGTTCA | Club    | WT_M1 | 2182  | -1.51001    | 2.86138    | 0.0972027\n",
       "WT_M1_GGACTATGCGCCTT | Club    | WT_M1 | 2116  | -1.5365     | 1.73065    | 0.018228\n",
       "WT_M1_GGAGCAGATGGAGG | Club    | WT_M1 | 1202  | -1.99302    | 3.13552    | -0.0332952\n",
       "... (7183 rows omitted)"
      ]
     },
     "execution_count": 38,
     "metadata": {},
     "output_type": "execute_result"
    }
   ],
   "source": [
    "metadata = Table.read_table(\"metadata.tsv\", sep=\"\\t\")\n",
    "metadata"
   ]
  },
  {
   "cell_type": "markdown",
   "id": "519859a4",
   "metadata": {},
   "source": [
    "### Let's explore the other data the biologists collected."
   ]
  },
  {
   "cell_type": "markdown",
   "id": "1d2c663d",
   "metadata": {},
   "source": [
    "We can visualize the number of cells of each type in each mouse.\n",
    "\n",
    "The information about which mouse a cell came from is stored in the `mouse` column of the `metadata` table.\n",
    "\n",
    "A cell type is one of `\"Basal\"`, `\"Ciliated\"`, `\"Club\"`, `\"Goblet\"`, `\"Ionocyte\"`, `\"Neuroendocrine\"` or `\"Tuft\"`. This information is stored in the `cluster` column of the `metadata` table. \n",
    "\n",
    "There were 6 different mice in the sample. Information about which mouse each cell comes from is stored in the `mouse` column of the `metadata` table."
   ]
  },
  {
   "cell_type": "code",
   "execution_count": 39,
   "id": "9fb4f131",
   "metadata": {},
   "outputs": [
    {
     "name": "stderr",
     "output_type": "stream",
     "text": [
      "/opt/conda/lib/python3.9/site-packages/datascience/tables.py:920: VisibleDeprecationWarning: Creating an ndarray from ragged nested sequences (which is a list-or-tuple of lists-or-tuples-or ndarrays with different lengths or shapes) is deprecated. If you meant to do this, you must specify 'dtype=object' when creating the ndarray.\n",
      "  values = np.array(tuple(values))\n"
     ]
    },
    {
     "data": {
      "image/png": "[encoded data removed]",
      "text/plain": [
       "<Figure size 432x288 with 1 Axes>"
      ]
     },
     "metadata": {},
     "output_type": "display_data"
    }
   ],
   "source": [
    "metadata.pivot(\"cluster\", \"mouse\").barh(\"mouse\")"
   ]
  },
  {
   "cell_type": "markdown",
   "id": "57c07e04",
   "metadata": {},
   "source": [
    "Visualize the association between the average `Basal_score` and average `Club_score` for each unique `cluster` and `mouse` pair."
   ]
  },
  {
   "cell_type": "code",
   "execution_count": 40,
   "id": "0052b77b",
   "metadata": {},
   "outputs": [
    {
     "data": {
      "image/png": "[encoded data removed]",
      "text/plain": [
       "<Figure size 360x360 with 1 Axes>"
      ]
     },
     "metadata": {},
     "output_type": "display_data"
    }
   ],
   "source": [
    "metadata.group([\"cluster\", \"mouse\"], np.mean).select(\"Basal_score mean\",\"Club_score mean\").scatter(\"Basal_score mean\", \"Club_score mean\")"
   ]
  },
  {
   "cell_type": "markdown",
   "id": "0ff57374",
   "metadata": {},
   "source": [
    "Create a scatter plot of `Y` (as the y axis) vs `X` (as the x axis) for every cell. Color the scatter plot by the `cluster` of the cells."
   ]
  },
  {
   "cell_type": "code",
   "execution_count": 42,
   "id": "e6cdbbe7",
   "metadata": {},
   "outputs": [
    {
     "data": {
      "image/png": "[encoded data removed]",
      "text/plain": [
       "<Figure size 360x360 with 1 Axes>"
      ]
     },
     "metadata": {},
     "output_type": "display_data"
    }
   ],
   "source": [
    "metadata.join(\"NAME\", tsne, \"NAME\").scatter(\"X\", \"Y\", group = \"cluster\")\n",
    "\n",
    "\n",
    "plots.plot(-43, -7, marker='o', markerfacecolor='None', \n",
    "         markeredgecolor='r', markersize=30, markeredgewidth=5, linestyle='none');"
   ]
  },
  {
   "cell_type": "markdown",
   "id": "17cbf7fc",
   "metadata": {},
   "source": [
    "#### We marked a specific area of your scatter plot with a large red circle. These few cells (less than 30) were identified as a rare cell type called \"Pulmonary Ionocytes\"."
   ]
  },
  {
   "cell_type": "markdown",
   "id": "5279cf11",
   "metadata": {},
   "source": [
    "Recall that the gene Cftr has been associated with cystic fibrosis. The table `dense_matrix`, that you created in part 2, contains expression of 8 genes of interest including Cftr. These are \"marker genes\". "
   ]
  },
  {
   "cell_type": "markdown",
   "id": "a13e8a28",
   "metadata": {},
   "source": [
    "I create a table called `proportions` with two columns. The first column is called `cluster` and has one row for each unique value in the `cluster` column of `metadata`. The second column is called `Proportion Cftr > 0` and corresponds to the proportion of cells of that cluster type that have a Cftr expression value above 0."
   ]
  },
  {
   "cell_type": "code",
   "execution_count": 44,
   "id": "38600836",
   "metadata": {},
   "outputs": [
    {
     "data": {
      "image/png": "[encoded data removed]",
      "text/plain": [
       "<Figure size 432x288 with 1 Axes>"
      ]
     },
     "metadata": {},
     "output_type": "display_data"
    }
   ],
   "source": [
    "# We need to determine which cells have Cftr greater than 0, \n",
    "# and then aggregate that information by cluster!\n",
    "with_markers = metadata.join(\"NAME\", dense_matrix, \"Cell\")\n",
    "with_cftr_above_0 = with_markers.with_column(\"Above 0\", with_markers.column(\"Cftr\")>0)\n",
    "cluster_and_above_0 = with_cftr_above_0.pivot(\"Above 0\", \"cluster\")\n",
    "\n",
    "# To calculate the proportion of cells above 0, we need the number above 0 and the total number of cells!\n",
    "# num_true_per_cluster and num_per_cluster should be arrays.\n",
    "num_true_per_cluster = cluster_and_above_0.column(\"True\")\n",
    "num_per_cluster = cluster_and_above_0.column(\"True\") + cluster_and_above_0.column(\"False\")\n",
    "\n",
    "# The proportions table needs to have a column called \"cluster\" for the clusters\n",
    "# and a column called \"Proportion Cftr > 0\" with the proportions!\n",
    "proportions = Table().with_columns(\"cluster\", cluster_and_above_0.column(\"cluster\"), \"Proportion Cftr > 0\", ( num_true_per_cluster/ num_per_cluster))\n",
    "\n",
    "\n",
    "\n",
    "proportions = proportions.select(\"cluster\", \"Proportion Cftr > 0\")\n",
    "proportions.barh(\"cluster\", \"Proportion Cftr > 0\")\n"
   ]
  },
  {
   "cell_type": "markdown",
   "id": "f5edae99",
   "metadata": {},
   "source": [
    "### It seems like ionocytes have a much higher expression of the Cftr gene than any other cell type. "
   ]
  },
  {
   "cell_type": "markdown",
   "id": "859bf2b5",
   "metadata": {},
   "source": [
    "To test this hypothesis, the biologists genetically engineered mice to \"turn off\" the `Foxi1` gene in some of the mice in the study.\n",
    "\n",
    "The gene Foxi1 is positively associated with the formation of pulmonary ionocytes. \n",
    "\n",
    "**The study found that in the genetically engineered mice, there was an 87.6% reduction in Cftr expression compared to non-genetically engineered (\"wild type\"/control) mice.**"
   ]
  },
  {
   "cell_type": "markdown",
   "id": "f6fceed3",
   "metadata": {},
   "source": [
    "Based on all these results, are Pulmonary ionocytes associated with Cftr expression? Is Foxi1 expression associated with Cftr expression? Does Foxi1 expression cause Cftr expression? Why or why not?"
   ]
  },
  {
   "cell_type": "markdown",
   "id": "68e836bb",
   "metadata": {},
   "source": [
    "I believe Pulmonary ionocytes are associated with Cftr expression. The proportion of Cftr > 0 for Ionocyte shows an unusal spike compared to the other type of clusters. Foxi1 expression seems necessary for Cftr expression because of the high Cftr expression in ionocytes, but I think more experimental data will be needded to prove causation."
   ]
  },
  {
   "cell_type": "markdown",
   "id": "5e2020c6",
   "metadata": {},
   "source": [
    "I think the scientists studied mice because they are an excellent source of ideal animal models for studies on comparative medicine and biomedical research. They have many similarities to humans in terms of their anatomy and physiology. Mice and humans each also have about 30,000 genes of which approximately 95% are shared by both species. This association lets us make claims about humans through the study of mice."
   ]
  },
  {
   "cell_type": "markdown",
   "id": "850ffd5f",
   "metadata": {},
   "source": [
    "\n",
    "### The genes included in the `dense_matrix` table were chosen because previous research associated them with cystic fibrosis. \n",
    "\n",
    "### We want to visualize the expression of these genes in each cell type, in order to conclusively highlight ionocytes as a target for future research and medicine."
   ]
  },
  {
   "cell_type": "code",
   "execution_count": 45,
   "id": "2fc53083",
   "metadata": {},
   "outputs": [
    {
     "data": {
      "text/plain": [
       "(0.4, 3.0)"
      ]
     },
     "execution_count": 45,
     "metadata": {},
     "output_type": "execute_result"
    }
   ],
   "source": [
    "def proportion_above_0(arr):\n",
    "    '''\n",
    "    Returns the proportion of values in array arr that are above 0.\n",
    "    \n",
    "    >>> proportion_above_0(make_array(0, 0, 2, -6, 0.01)) == 0.4\n",
    "    >>> proportion_above_0(make_array(0, 0, 0)) == 0\n",
    "    '''\n",
    "    return np.count_nonzero(arr > 0) / len(arr)\n",
    "\n",
    "def non_zero_mean(arr):\n",
    "    '''\n",
    "    Returns the mean of the nonzero values in array arr. \n",
    "    Assume none of the values are negative.\n",
    "    \n",
    "    >>> non_zero_mean(make_array(0, 1, 3, 0, 5)) == 3\n",
    "    >>> non_zero_mean(make_array(0, 0, 0)) == 0\n",
    "    '''\n",
    "    numerator = sum(arr)\n",
    "    denominator = np.count_nonzero(arr > 0)\n",
    "    \n",
    "    # DON'T CHANGE THIS CODE\n",
    "    if denominator == 0:\n",
    "        return 0\n",
    "    return numerator / denominator\n",
    "\n",
    "# Example calls to the functions\n",
    "proportion_above_0(make_array(0, 0, 2, -6, 0.01)), non_zero_mean(make_array(0, 1, 3, 0, 5))"
   ]
  },
  {
   "cell_type": "code",
   "execution_count": 46,
   "id": "60b60921",
   "metadata": {},
   "outputs": [
    {
     "data": {
      "text/html": [
       "<table border=\"1\" class=\"dataframe\">\n",
       "    <thead>\n",
       "        <tr>\n",
       "            <th>Ascl3</th> <th>Asgr1</th> <th>Atp6v0d2</th> <th>Atp6v1c2</th> <th>Cftr</th> <th>Foxi1</th> <th>Moxd1</th> <th>P2ry14</th> <th>Stap1</th> <th>cluster</th>\n",
       "        </tr>\n",
       "    </thead>\n",
       "    <tbody>\n",
       "        <tr>\n",
       "            <td>0    </td> <td>0    </td> <td>0       </td> <td>1.63    </td> <td>0   </td> <td>0    </td> <td>0    </td> <td>0     </td> <td>0    </td> <td>Basal  </td>\n",
       "        </tr>\n",
       "        <tr>\n",
       "            <td>0    </td> <td>0    </td> <td>0       </td> <td>1.17    </td> <td>0   </td> <td>0    </td> <td>0    </td> <td>0     </td> <td>0    </td> <td>Club   </td>\n",
       "        </tr>\n",
       "    </tbody>\n",
       "</table>\n",
       "<p>... (3705 rows omitted)</p>"
      ],
      "text/plain": [
       "<IPython.core.display.HTML object>"
      ]
     },
     "metadata": {},
     "output_type": "display_data"
    },
    {
     "data": {
      "text/html": [
       "<table border=\"1\" class=\"dataframe\">\n",
       "    <thead>\n",
       "        <tr>\n",
       "            <th>cluster</th> <th>Ascl3 proportion_above_0</th> <th>Asgr1 proportion_above_0</th> <th>Atp6v0d2 proportion_above_0</th> <th>Atp6v1c2 proportion_above_0</th> <th>Cftr proportion_above_0</th> <th>Foxi1 proportion_above_0</th> <th>Moxd1 proportion_above_0</th> <th>P2ry14 proportion_above_0</th> <th>Stap1 proportion_above_0</th>\n",
       "        </tr>\n",
       "    </thead>\n",
       "    <tbody>\n",
       "        <tr>\n",
       "            <td>Basal   </td> <td>0.00832033              </td> <td>0.105044                </td> <td>0.000520021                </td> <td>0.927197                   </td> <td>0.00312012             </td> <td>0.00156006              </td> <td>0.00208008              </td> <td>0.0270411                </td> <td>0.00312012              </td>\n",
       "        </tr>\n",
       "        <tr>\n",
       "            <td>Ciliated</td> <td>0.0176991               </td> <td>0.247788                </td> <td>0.00442478                 </td> <td>0.871681                   </td> <td>0.00442478             </td> <td>0.00442478              </td> <td>0.00442478              </td> <td>0.00442478               </td> <td>0.00884956              </td>\n",
       "        </tr>\n",
       "    </tbody>\n",
       "</table>\n",
       "<p>... (5 rows omitted)</p>"
      ],
      "text/plain": [
       "<IPython.core.display.HTML object>"
      ]
     },
     "metadata": {},
     "output_type": "display_data"
    },
    {
     "data": {
      "text/html": [
       "<table border=\"1\" class=\"dataframe\">\n",
       "    <thead>\n",
       "        <tr>\n",
       "            <th>cluster</th> <th>Ascl3 non_zero_mean</th> <th>Asgr1 non_zero_mean</th> <th>Atp6v0d2 non_zero_mean</th> <th>Atp6v1c2 non_zero_mean</th> <th>Cftr non_zero_mean</th> <th>Foxi1 non_zero_mean</th> <th>Moxd1 non_zero_mean</th> <th>P2ry14 non_zero_mean</th> <th>Stap1 non_zero_mean</th>\n",
       "        </tr>\n",
       "    </thead>\n",
       "    <tbody>\n",
       "        <tr>\n",
       "            <td>Basal   </td> <td>2.01437            </td> <td>1.79134            </td> <td>2.4                   </td> <td>2.20594               </td> <td>1.595             </td> <td>2.21333            </td> <td>1.8725             </td> <td>1.87865             </td> <td>1.71667            </td>\n",
       "        </tr>\n",
       "        <tr>\n",
       "            <td>Ciliated</td> <td>1.5175             </td> <td>1.78161            </td> <td>1.12                  </td> <td>1.91437               </td> <td>2.17              </td> <td>2.5                </td> <td>2.22               </td> <td>1.29                </td> <td>1.76               </td>\n",
       "        </tr>\n",
       "    </tbody>\n",
       "</table>\n",
       "<p>... (5 rows omitted)</p>"
      ],
      "text/plain": [
       "<IPython.core.display.HTML object>"
      ]
     },
     "metadata": {},
     "output_type": "display_data"
    },
    {
     "data": {
      "text/plain": [
       "array([2.54777778, 0.375     ])"
      ]
     },
     "execution_count": 46,
     "metadata": {},
     "output_type": "execute_result"
    }
   ],
   "source": [
    "# We need info about both the expression values and the clusters\n",
    "markers_with_clusters = dense_matrix.join(\"Cell\", metadata.select(\"NAME\", \"cluster\"), \"NAME\").drop(\"Cell\")\n",
    "markers_with_clusters.show(2)\n",
    "\n",
    "# We need info about the proportion of cells with expression above zero, in every gene, for each cluster\n",
    "clusters_proportion_above_0 = markers_with_clusters.group(\"cluster\", proportion_above_0)\n",
    "clusters_proportion_above_0.show(2)\n",
    "\n",
    "# We need info about the average non zero mean expression, in every gene, for each cluster\n",
    "clusters_non_zero_avg_expr = markers_with_clusters.group(\"cluster\", non_zero_mean)\n",
    "clusters_non_zero_avg_expr.show(2)\n",
    "\n",
    "def values(cluster, gene):\n",
    "    '''\n",
    "    Returns an array of the avg nonzero expression \n",
    "    and the proportion nonzero, for a specific cluster and gene.\n",
    "    '''\n",
    "    # Get the values for the specific cluster and gene\n",
    "    # Have the column names changed?\n",
    "    # You might want to add in extra lines of code here to shorten individual lines.\n",
    "    non_zero_avg_val = clusters_non_zero_avg_expr.where(\"cluster\", are.equal_to(cluster)).column(gene + \" non_zero_mean\").item(0)\n",
    "    proportion_above_0_val = clusters_proportion_above_0.where(\"cluster\", are.equal_to(cluster)).column(gene + \" proportion_above_0\").item(0)\n",
    "    # Don't change this line!\n",
    "    return make_array(non_zero_avg_val, proportion_above_0_val)\n",
    "\n",
    "# An example call to the function\n",
    "values(\"Ionocyte\", \"Cftr\")"
   ]
  },
  {
   "cell_type": "markdown",
   "id": "d1b9ded3",
   "metadata": {},
   "source": [
    "The following cell plots a dot plot of the marker genes. \n",
    "\n",
    "- The dot plot has one dot per pair of cluster and marker gene. \n",
    "\n",
    "- The size of the dot corresponds to the proportion of cells in that cluster that have expression levels above zero in that gene. \n",
    "\n",
    "- The color of the dot corresponds to the average nonzero expression level of cells in that cluster."
   ]
  },
  {
   "cell_type": "code",
   "execution_count": 47,
   "id": "de9cd4c7",
   "metadata": {},
   "outputs": [
    {
     "name": "stderr",
     "output_type": "stream",
     "text": [
      "/tmp/ipykernel_171/2471552285.py:28: MatplotlibDeprecationWarning: Auto-removal of grids by pcolor() and pcolormesh() is deprecated since 3.5 and will be removed two minor releases later; please call grid(False) first.\n",
      "  plots.colorbar();\n"
     ]
    },
    {
     "data": {
      "image/png": "[encoded data removed]",
      "text/plain": [
       "<Figure size 180x288 with 2 Axes>"
      ]
     },
     "metadata": {},
     "output_type": "display_data"
    }
   ],
   "source": [
    "# DON'T CHANGE THIS CODE\n",
    "# PLOTS THE DOT PLOT\n",
    "clusters = np.unique(metadata.column(\"cluster\"))\n",
    "x_axis_ticks = np.arange(0, len(clusters))\n",
    "genes_uniq = [\"Stap1\", \"P2ry14\", \"Moxd1\", \"Foxi1\", \"Cftr\", \"Atp6v1c2\", \"Atp6v0d2\", \"Asgr1\", \"Ascl3\"]\n",
    "y_axis_ticks = np.arange(0, len(genes_uniq))\n",
    "mesh = np.meshgrid(x_axis_ticks, y_axis_ticks)\n",
    "plots.figure(figsize=(2.5,4))\n",
    "\n",
    "sizes = np.zeros_like(mesh[0], dtype=float)\n",
    "colors = np.zeros_like(mesh[0], dtype=float)\n",
    "\n",
    "for i, c in enumerate(clusters):\n",
    "    for j, g in enumerate(genes_uniq):\n",
    "        vals = values(c, g)\n",
    "        m = vals[0]\n",
    "        p = vals[1]\n",
    "        \n",
    "        sizes[j, i] = p\n",
    "        colors[j, i] = m\n",
    "\n",
    "\n",
    "sizes = 7 + (sizes * (120/np.max(sizes)))\n",
    "plots.scatter(mesh[0], mesh[1], s=sizes, c=colors, cmap=\"jet\");\n",
    "\n",
    "plots.xticks(x_axis_ticks, clusters, rotation = 90);\n",
    "plots.yticks(y_axis_ticks, genes_uniq);\n",
    "plots.colorbar();\n",
    "plots.title(\"Marker Genes vs Cluster\");"
   ]
  },
  {
   "cell_type": "markdown",
   "id": "8d8d6f11",
   "metadata": {},
   "source": [
    "### As you can see, ionocytes are indeed associated with our marker genes, and thus associated with cystic fibrosis. With this knowledge in hand, we can design future experiments to analyze the effects of medicines targeted at this cell type, and work towards treating cystic fibrosis. "
   ]
  },
  {
   "cell_type": "markdown",
   "id": "6812e2a8",
   "metadata": {},
   "source": [
    "Using table manipulation and visualization skills, I have:\n",
    "- Analyzed the popularity of a new technology, scRNA-seq, using rolling averages\n",
    "- Manipulated scRNA-seq data into a usable format\n",
    "- Identified an association between a novel cell type, ionocytes, and the disease cystic fibrosis, opening the way for future research."
   ]
  },
  {
   "cell_type": "code",
   "execution_count": null,
   "id": "e0796ffd",
   "metadata": {},
   "outputs": [],
   "source": []
  }
 ],
 "metadata": {
  "kernelspec": {
   "display_name": "Python 3 (ipykernel)",
   "language": "python",
   "name": "python3"
  },
  "language_info": {
   "codemirror_mode": {
    "name": "ipython",
    "version": 3
   },
   "file_extension": ".py",
   "mimetype": "text/x-python",
   "name": "python",
   "nbconvert_exporter": "python",
   "pygments_lexer": "ipython3",
   "version": "3.9.6"
  },
  "toc": {
   "base_numbering": 1,
   "nav_menu": {},
   "number_sections": true,
   "sideBar": true,
   "skip_h1_title": false,
   "title_cell": "Table of Contents",
   "title_sidebar": "Contents",
   "toc_cell": false,
   "toc_position": {},
   "toc_section_display": true,
   "toc_window_display": false
  }
 },
 "nbformat": 4,
 "nbformat_minor": 5
}
